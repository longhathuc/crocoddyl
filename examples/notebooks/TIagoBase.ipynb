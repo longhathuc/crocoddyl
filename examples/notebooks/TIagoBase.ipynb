{
 "cells": [
  {
   "cell_type": "code",
   "execution_count": 1,
   "id": "interesting-distributor",
   "metadata": {},
   "outputs": [
    {
     "name": "stdout",
     "output_type": "stream",
     "text": [
      "['', '/opt/openrobots/lib/python3.6/site-packages', '/opt/openrobots/lib/python3.6/dist-packages', '/home/tlha/catkin_crocoddyl_ws/install/lib/python3/dist-packages', '/home/tlha/tiago_public_ws/install/lib/python2.7/dist-packages', '/opt/ros/melodic/lib/python2.7/dist-packages', '/usr/lib/python36.zip', '/usr/lib/python3.6', '/usr/lib/python3.6/lib-dynload', '/home/tlha/.local/lib/python3.6/site-packages', '/usr/local/lib/python3.6/dist-packages', '/usr/lib/python3/dist-packages', '/home/tlha/.local/lib/python3.6/site-packages/IPython/extensions', '/home/tlha/.ipython']\n"
     ]
    }
   ],
   "source": [
    "import sys\n",
    "print(sys.path)\n"
   ]
  },
  {
   "cell_type": "code",
   "execution_count": 2,
   "id": "operating-terrorism",
   "metadata": {},
   "outputs": [
    {
     "name": "stdout",
     "output_type": "stream",
     "text": [
      "You can open the visualizer by visiting the following URL:\n",
      "http://127.0.0.1:7001/static/\n"
     ]
    }
   ],
   "source": [
    "import crocoddyl\n",
    "import pinocchio\n",
    "import numpy as np\n",
    "import example_robot_data\n",
    "\n",
    "robot = example_robot_data.load('tiago')\n",
    "robot_model = robot.model\n",
    "q0 = robot_model.referenceConfigurations[\"tuck_arm\"]\n",
    "\n",
    "DT = 1e-3\n",
    "T= 250\n",
    "target = np.array([0.8, 0.9, 0]) \n",
    "display = crocoddyl.MeshcatDisplay(robot, 4, 4, False)\n"
   ]
  },
  {
   "cell_type": "code",
   "execution_count": null,
   "id": "active-wings",
   "metadata": {},
   "outputs": [],
   "source": []
  },
  {
   "cell_type": "code",
   "execution_count": null,
   "id": "raised-postage",
   "metadata": {},
   "outputs": [],
   "source": []
  },
  {
   "cell_type": "code",
   "execution_count": 3,
   "id": "oriental-bacon",
   "metadata": {},
   "outputs": [
    {
     "name": "stdout",
     "output_type": "stream",
     "text": [
      "referenceConfigurations: [ 0.15  0.2  -1.34 -0.2   1.94 -1.57  1.37  0.    0.    0.    0.    0.\n",
      "  0.    0.    0.    0.    0.    0.    0.    0.    0.    0.    0.    0.\n",
      "  0.    0.    0.    0.    0.    0.    0.    0.    0.    0.    0.    0.\n",
      "  0.    0.    0.    0.    0.    0.    0.    0.    0.    0.    1.    0.\n",
      "  1.    0.  ]\n"
     ]
    }
   ],
   "source": [
    "print(\"referenceConfigurations:\", q0)"
   ]
  },
  {
   "cell_type": "code",
   "execution_count": 4,
   "id": "developing-consent",
   "metadata": {},
   "outputs": [
    {
     "name": "stdout",
     "output_type": "stream",
     "text": [
      "robot.q0 size: 50\n",
      "[0. 0. 0. 0. 0. 0. 0. 0. 0. 0. 0. 0. 0. 0. 0. 0. 0. 0. 0. 0. 0. 0. 0. 0.\n",
      " 0. 0. 0. 0. 0. 0. 0. 0. 0. 0. 0. 0. 0. 0. 0. 0. 0. 0. 0. 0. 0. 0. 1. 0.\n",
      " 1. 0.]\n"
     ]
    }
   ],
   "source": [
    "print(\"robot.q0 size:\", robot.q0.shape[0])\n",
    "print(robot.q0)"
   ]
  },
  {
   "cell_type": "code",
   "execution_count": 5,
   "id": "victorian-hanging",
   "metadata": {},
   "outputs": [
    {
     "data": {
      "text/plain": [
       "Nb joints = 49 (nq=50,nv=48)\n",
       "  Joint 0 universe: parent=0\n",
       "  Joint 1 torso_lift_joint: parent=0\n",
       "  Joint 2 arm_1_joint: parent=1\n",
       "  Joint 3 arm_2_joint: parent=2\n",
       "  Joint 4 arm_3_joint: parent=3\n",
       "  Joint 5 arm_4_joint: parent=4\n",
       "  Joint 6 arm_5_joint: parent=5\n",
       "  Joint 7 arm_6_joint: parent=6\n",
       "  Joint 8 arm_7_joint: parent=7\n",
       "  Joint 9 hand_index_abd_joint: parent=8\n",
       "  Joint 10 hand_index_virtual_1_joint: parent=9\n",
       "  Joint 11 hand_index_flex_1_joint: parent=10\n",
       "  Joint 12 hand_index_virtual_2_joint: parent=11\n",
       "  Joint 13 hand_index_flex_2_joint: parent=12\n",
       "  Joint 14 hand_index_virtual_3_joint: parent=13\n",
       "  Joint 15 hand_index_flex_3_joint: parent=14\n",
       "  Joint 16 hand_index_joint: parent=8\n",
       "  Joint 17 hand_little_abd_joint: parent=8\n",
       "  Joint 18 hand_little_virtual_1_joint: parent=17\n",
       "  Joint 19 hand_little_flex_1_joint: parent=18\n",
       "  Joint 20 hand_little_virtual_2_joint: parent=19\n",
       "  Joint 21 hand_little_flex_2_joint: parent=20\n",
       "  Joint 22 hand_little_virtual_3_joint: parent=21\n",
       "  Joint 23 hand_little_flex_3_joint: parent=22\n",
       "  Joint 24 hand_middle_abd_joint: parent=8\n",
       "  Joint 25 hand_middle_virtual_1_joint: parent=24\n",
       "  Joint 26 hand_middle_flex_1_joint: parent=25\n",
       "  Joint 27 hand_middle_virtual_2_joint: parent=26\n",
       "  Joint 28 hand_middle_flex_2_joint: parent=27\n",
       "  Joint 29 hand_middle_virtual_3_joint: parent=28\n",
       "  Joint 30 hand_middle_flex_3_joint: parent=29\n",
       "  Joint 31 hand_mrl_joint: parent=8\n",
       "  Joint 32 hand_ring_abd_joint: parent=8\n",
       "  Joint 33 hand_ring_virtual_1_joint: parent=32\n",
       "  Joint 34 hand_ring_flex_1_joint: parent=33\n",
       "  Joint 35 hand_ring_virtual_2_joint: parent=34\n",
       "  Joint 36 hand_ring_flex_2_joint: parent=35\n",
       "  Joint 37 hand_ring_virtual_3_joint: parent=36\n",
       "  Joint 38 hand_ring_flex_3_joint: parent=37\n",
       "  Joint 39 hand_thumb_abd_joint: parent=8\n",
       "  Joint 40 hand_thumb_virtual_1_joint: parent=39\n",
       "  Joint 41 hand_thumb_flex_1_joint: parent=40\n",
       "  Joint 42 hand_thumb_virtual_2_joint: parent=41\n",
       "  Joint 43 hand_thumb_flex_2_joint: parent=42\n",
       "  Joint 44 hand_thumb_joint: parent=8\n",
       "  Joint 45 head_1_joint: parent=1\n",
       "  Joint 46 head_2_joint: parent=45\n",
       "  Joint 47 wheel_left_joint: parent=0\n",
       "  Joint 48 wheel_right_joint: parent=0"
      ]
     },
     "execution_count": 5,
     "metadata": {},
     "output_type": "execute_result"
    }
   ],
   "source": [
    "robot_model"
   ]
  },
  {
   "cell_type": "code",
   "execution_count": 6,
   "id": "level-allowance",
   "metadata": {},
   "outputs": [],
   "source": [
    "model = crocoddyl.ActionModelUnicycle()\n",
    "data = model.createData()\n",
    "model.costWeights = np.matrix([\n",
    "    1,   # state weight\n",
    "    1  # control weight\n",
    "]).T"
   ]
  },
  {
   "cell_type": "code",
   "execution_count": 23,
   "id": "exciting-combat",
   "metadata": {},
   "outputs": [
    {
     "ename": "AttributeError",
     "evalue": "'ActionDataUnicycle' object has no attribute 'shape'",
     "output_type": "error",
     "traceback": [
      "\u001b[0;31m---------------------------------------------------------------------------\u001b[0m",
      "\u001b[0;31mAttributeError\u001b[0m                            Traceback (most recent call last)",
      "\u001b[0;32m<ipython-input-23-3d8483998d6f>\u001b[0m in \u001b[0;36m<module>\u001b[0;34m\u001b[0m\n\u001b[0;32m----> 1\u001b[0;31m \u001b[0mdata\u001b[0m\u001b[0;34m.\u001b[0m\u001b[0mshape\u001b[0m\u001b[0;34m(\u001b[0m\u001b[0;34m)\u001b[0m\u001b[0;34m\u001b[0m\u001b[0;34m\u001b[0m\u001b[0m\n\u001b[0m",
      "\u001b[0;31mAttributeError\u001b[0m: 'ActionDataUnicycle' object has no attribute 'shape'"
     ]
    }
   ],
   "source": [
    "data.shape()"
   ]
  },
  {
   "cell_type": "code",
   "execution_count": 9,
   "id": "divided-simpson",
   "metadata": {},
   "outputs": [],
   "source": [
    "# Create the cost functions\n",
    "Mref = crocoddyl.FrameTranslation(robot_model.getFrameId(\"base_link\"), target)\n",
    "state = crocoddyl.StateMultibody(robot.model)\n",
    "goalTrackingCost = crocoddyl.CostModelFrameTranslation(state, Mref)\n",
    "xRegCost = crocoddyl.CostModelState(state)\n",
    "uRegCost = crocoddyl.CostModelControl(state)"
   ]
  },
  {
   "cell_type": "code",
   "execution_count": 11,
   "id": "catholic-samba",
   "metadata": {},
   "outputs": [
    {
     "data": {
      "text/plain": [
       "<crocoddyl.libcrocoddyl_pywrap.CostModelState at 0x7f0a7a502ed8>"
      ]
     },
     "execution_count": 11,
     "metadata": {},
     "output_type": "execute_result"
    }
   ],
   "source": [
    "xRegCost"
   ]
  },
  {
   "cell_type": "code",
   "execution_count": 13,
   "id": "overhead-modem",
   "metadata": {},
   "outputs": [],
   "source": [
    "# Create cost model per each action model\n",
    "runningCostModel = crocoddyl.CostModelSum(state)\n",
    "terminalCostModel = crocoddyl.CostModelSum(state)\n",
    "\n",
    "# Then let's added the running and terminal cost functions\n",
    "runningCostModel.addCost(\"gripperPose\", goalTrackingCost, 1e2)\n",
    "runningCostModel.addCost(\"stateReg\", xRegCost, 1e-4)\n",
    "runningCostModel.addCost(\"ctrlReg\", uRegCost, 1e-7)\n",
    "terminalCostModel.addCost(\"gripperPose\", goalTrackingCost, 1e5)\n",
    "terminalCostModel.addCost(\"stateReg\", xRegCost, 1e-4)\n",
    "terminalCostModel.addCost(\"ctrlReg\", uRegCost, 1e-7)"
   ]
  },
  {
   "cell_type": "code",
   "execution_count": 19,
   "id": "indoor-increase",
   "metadata": {},
   "outputs": [
    {
     "name": "stdout",
     "output_type": "stream",
     "text": [
      "Finally reached =  [0.     0.     0.0985]\n"
     ]
    }
   ],
   "source": [
    "# Create the actuation model\n",
    "actuationModel = crocoddyl.ActuationModelFull(state)\n",
    "\n",
    "# Create the action model\n",
    "runningModel = crocoddyl.IntegratedActionModelEuler(\n",
    "    crocoddyl.DifferentialActionModelFreeFwdDynamics(state, actuationModel, runningCostModel), DT)\n",
    "terminalModel = crocoddyl.IntegratedActionModelEuler(\n",
    "    crocoddyl.DifferentialActionModelFreeFwdDynamics(state, actuationModel, terminalCostModel))\n",
    "\n",
    "\n",
    "# Create the problem\n",
    "q0 = robot_model.referenceConfigurations[\"tuck_arm\"]\n",
    "x0 = np.concatenate([q0, pinocchio.utils.zero(state.nv)])\n",
    "problem = crocoddyl.ShootingProblem(x0, [runningModel] * T, terminalModel)\n",
    "\n",
    "# Creating the DDP solver for this OC problem, defining a logger\n",
    "ddp = crocoddyl.SolverDDP(problem)\n",
    "ddp.setCallbacks([crocoddyl.CallbackVerbose()])\n",
    "\n",
    "# Solving it with the DDP algorithm\n",
    "ddp.solve()\n",
    "\n",
    "# Visualizing the solution in gepetto-viewer\n",
    "display.displayFromSolver(ddp)\n",
    "\n",
    "robot_data = robot_model.createData()\n",
    "xT = ddp.xs[-1]\n",
    "pinocchio.forwardKinematics(robot_model, robot_data, xT[:state.nq])\n",
    "pinocchio.updateFramePlacements(robot_model, robot_data)\n",
    "print('Finally reached = ', robot_data.oMf[robot_model.getFrameId(\"base_link\")].translation.T)"
   ]
  },
  {
   "cell_type": "code",
   "execution_count": 20,
   "id": "inappropriate-packet",
   "metadata": {},
   "outputs": [
    {
     "data": {
      "text/plain": [
       "98"
      ]
     },
     "execution_count": 20,
     "metadata": {},
     "output_type": "execute_result"
    }
   ],
   "source": [
    "x0.shape[0]"
   ]
  },
  {
   "cell_type": "code",
   "execution_count": 16,
   "id": "immediate-notion",
   "metadata": {},
   "outputs": [
    {
     "data": {
      "text/plain": [
       "array([ 0.15,  0.2 , -1.34, -0.2 ,  1.94, -1.57,  1.37,  0.  ,  0.  ,\n",
       "        0.  ,  0.  ,  0.  ,  0.  ,  0.  ,  0.  ,  0.  ,  0.  ,  0.  ,\n",
       "        0.  ,  0.  ,  0.  ,  0.  ,  0.  ,  0.  ,  0.  ,  0.  ,  0.  ,\n",
       "        0.  ,  0.  ,  0.  ,  0.  ,  0.  ,  0.  ,  0.  ,  0.  ,  0.  ,\n",
       "        0.  ,  0.  ,  0.  ,  0.  ,  0.  ,  0.  ,  0.  ,  0.  ,  0.  ,\n",
       "        0.  ,  1.  ,  0.  ,  1.  ,  0.  ,  0.  ,  0.  ,  0.  ,  0.  ,\n",
       "        0.  ,  0.  ,  0.  ,  0.  ,  0.  ,  0.  ,  0.  ,  0.  ,  0.  ,\n",
       "        0.  ,  0.  ,  0.  ,  0.  ,  0.  ,  0.  ,  0.  ,  0.  ,  0.  ,\n",
       "        0.  ,  0.  ,  0.  ,  0.  ,  0.  ,  0.  ,  0.  ,  0.  ,  0.  ,\n",
       "        0.  ,  0.  ,  0.  ,  0.  ,  0.  ,  0.  ,  0.  ,  0.  ,  0.  ,\n",
       "        0.  ,  0.  ,  0.  ,  0.  ,  0.  ,  0.  ,  0.  ,  0.  ])"
      ]
     },
     "execution_count": 16,
     "metadata": {},
     "output_type": "execute_result"
    }
   ],
   "source": [
    "x0"
   ]
  },
  {
   "cell_type": "code",
   "execution_count": 17,
   "id": "asian-recall",
   "metadata": {},
   "outputs": [
    {
     "data": {
      "text/html": [
       "\n",
       "            <div style=\"height: 400px; width: 100%; overflow-x: auto; overflow-y: hidden; resize: both\">\n",
       "            <iframe src=\"http://127.0.0.1:7001/static/\" style=\"width: 100%; height: 100%; border: none\"></iframe>\n",
       "            </div>\n",
       "            "
      ],
      "text/plain": [
       "<IPython.core.display.HTML object>"
      ]
     },
     "execution_count": 17,
     "metadata": {},
     "output_type": "execute_result"
    }
   ],
   "source": [
    "display.robot.viewer.jupyter_cell()"
   ]
  },
  {
   "cell_type": "code",
   "execution_count": 18,
   "id": "another-professor",
   "metadata": {},
   "outputs": [
    {
     "data": {
      "text/plain": [
       "array([-1.50134559e-01,  1.96842665e-01, -1.31480550e+00, -1.91828409e-01,\n",
       "        1.88102726e+00, -1.52378710e+00,  1.33146057e+00,  9.59197937e-05,\n",
       "        1.88983410e-04,  4.22810380e-04,  3.43257540e-04,  2.74074671e-04,\n",
       "        2.04212409e-04,  1.35895219e-04,  6.73657377e-05,  8.43812577e-05,\n",
       "        1.89065094e-04,  4.20775896e-04,  3.42532960e-04,  2.73720543e-04,\n",
       "        2.04126738e-04,  1.35913428e-04,  6.73092568e-05,  1.91056395e-04,\n",
       "        4.87310940e-04,  3.95800515e-04,  3.16280219e-04,  2.35638618e-04,\n",
       "        1.56916567e-04,  7.76849776e-05,  8.43812577e-05,  1.90328650e-04,\n",
       "        4.69871924e-04,  3.82001369e-04,  3.05289152e-04,  2.27550606e-04,\n",
       "        1.51536309e-04,  7.50281094e-05,  1.80378593e-04,  1.39766694e-04,\n",
       "        1.15205008e-04,  7.74610100e-05,  3.85033776e-05,  8.43812577e-05,\n",
       "       -3.16491313e-09, -8.68679570e-04,  1.00000000e+00,  0.00000000e+00,\n",
       "        1.00000000e+00,  0.00000000e+00, -2.41690255e+00, -4.44277845e-03,\n",
       "        1.06465478e-01,  1.50046032e-03, -1.42250970e-01,  7.24518930e-03,\n",
       "       -1.02332260e-02, -1.11862876e-04, -8.19215710e-04, -7.22318409e-04,\n",
       "       -6.76308164e-04, -5.43508546e-04, -4.02811771e-04, -2.67842124e-04,\n",
       "       -1.31362499e-04, -1.01682023e-05, -4.20054216e-04, -6.15227287e-04,\n",
       "       -5.76324927e-04, -4.62593409e-04, -3.38549378e-04, -2.25293411e-04,\n",
       "       -1.08771471e-04, -6.26330181e-04, -7.63269473e-04, -7.19008938e-04,\n",
       "       -5.77073173e-04, -4.26549391e-04, -2.83428513e-04, -1.38551448e-04,\n",
       "       -1.01682023e-05, -5.20822587e-04, -7.11220195e-04, -6.69150886e-04,\n",
       "       -5.37083614e-04, -3.95500374e-04, -2.62959024e-04, -1.27929030e-04,\n",
       "       -3.66767802e-04, -5.78300097e-04, -4.14578228e-04, -2.73390155e-04,\n",
       "       -1.31670227e-04, -1.01682023e-05,  3.84712458e-09, -6.04887283e-03,\n",
       "        0.00000000e+00,  0.00000000e+00])"
      ]
     },
     "execution_count": 18,
     "metadata": {},
     "output_type": "execute_result"
    }
   ],
   "source": [
    "xT"
   ]
  },
  {
   "cell_type": "code",
   "execution_count": null,
   "id": "lesbian-flooring",
   "metadata": {},
   "outputs": [],
   "source": []
  },
  {
   "cell_type": "code",
   "execution_count": null,
   "id": "friendly-compilation",
   "metadata": {},
   "outputs": [],
   "source": []
  },
  {
   "cell_type": "code",
   "execution_count": null,
   "id": "lesser-march",
   "metadata": {},
   "outputs": [],
   "source": []
  },
  {
   "cell_type": "code",
   "execution_count": null,
   "id": "binding-interstate",
   "metadata": {},
   "outputs": [],
   "source": []
  }
 ],
 "metadata": {
  "kernelspec": {
   "display_name": "Python 3",
   "language": "python",
   "name": "python3"
  },
  "language_info": {
   "codemirror_mode": {
    "name": "ipython",
    "version": 3
   },
   "file_extension": ".py",
   "mimetype": "text/x-python",
   "name": "python",
   "nbconvert_exporter": "python",
   "pygments_lexer": "ipython3",
   "version": "3.6.9"
  }
 },
 "nbformat": 4,
 "nbformat_minor": 5
}
