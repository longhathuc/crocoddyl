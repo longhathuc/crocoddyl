{
 "cells": [
  {
   "cell_type": "code",
   "execution_count": 1,
   "id": "interesting-distributor",
   "metadata": {},
   "outputs": [
    {
     "name": "stdout",
     "output_type": "stream",
     "text": [
      "['', '/opt/openrobots/lib/python3.6/site-packages', '/opt/openrobots/lib/python3.6/dist-packages', '/home/tlha/catkin_crocoddyl_ws/install/lib/python3/dist-packages', '/home/tlha/tiago_public_ws/install/lib/python2.7/dist-packages', '/opt/ros/melodic/lib/python2.7/dist-packages', '/usr/lib/python36.zip', '/usr/lib/python3.6', '/usr/lib/python3.6/lib-dynload', '/home/tlha/.local/lib/python3.6/site-packages', '/usr/local/lib/python3.6/dist-packages', '/usr/lib/python3/dist-packages', '/home/tlha/.local/lib/python3.6/site-packages/IPython/extensions', '/home/tlha/.ipython']\n"
     ]
    }
   ],
   "source": [
    "import sys\n",
    "print(sys.path)"
   ]
  },
  {
   "cell_type": "code",
   "execution_count": 2,
   "id": "operating-terrorism",
   "metadata": {},
   "outputs": [
    {
     "name": "stdout",
     "output_type": "stream",
     "text": [
      "You can open the visualizer by visiting the following URL:\n",
      "http://127.0.0.1:7000/static/\n"
     ]
    }
   ],
   "source": [
    "import crocoddyl\n",
    "import pinocchio\n",
    "import numpy as np\n",
    "import example_robot_data\n",
    "\n",
    "robot = example_robot_data.load('tiago_no_hand')\n",
    "#robot = example_robot_data.loadTiago(True,'wsg')\n",
    "robot_model = robot.model\n",
    "q0 = robot_model.referenceConfigurations[\"tuck_arm\"]\n",
    "# x0 = np.concatenate([q0, np.zeros(robot_model.nv)])\n",
    "# robot.q0 = q0\n",
    "DT = 1e-3\n",
    "T= 250\n",
    "target = np.array([3.8, 0.1, 1.1]) \n",
    "display = crocoddyl.MeshcatDisplay(robot, 4, 4, False)\n"
   ]
  },
  {
   "cell_type": "code",
   "execution_count": null,
   "id": "active-wings",
   "metadata": {},
   "outputs": [],
   "source": []
  },
  {
   "cell_type": "code",
   "execution_count": 3,
   "id": "oriental-bacon",
   "metadata": {},
   "outputs": [
    {
     "name": "stdout",
     "output_type": "stream",
     "text": [
      "referenceConfigurations: [ 0.15        0.2        -1.34       -0.2         1.94       -1.57\n",
      "  1.37        1.          0.          0.          0.70710678  0.70710678\n",
      "  0.70710678  0.70710678]\n"
     ]
    }
   ],
   "source": [
    "print(\"referenceConfigurations:\", q0)"
   ]
  },
  {
   "cell_type": "code",
   "execution_count": 4,
   "id": "developing-consent",
   "metadata": {},
   "outputs": [
    {
     "name": "stdout",
     "output_type": "stream",
     "text": [
      "robot.q0 size: 14\n",
      "[0. 0. 0. 0. 0. 0. 0. 0. 0. 0. 1. 0. 1. 0.]\n"
     ]
    }
   ],
   "source": [
    "print(\"robot.q0 size:\", robot.q0.shape[0])\n",
    "print(robot.q0)"
   ]
  },
  {
   "cell_type": "code",
   "execution_count": 5,
   "id": "victorian-hanging",
   "metadata": {},
   "outputs": [
    {
     "data": {
      "text/plain": [
       "Nb joints = 13 (nq=14,nv=12)\n",
       "  Joint 0 universe: parent=0\n",
       "  Joint 1 torso_lift_joint: parent=0\n",
       "  Joint 2 arm_1_joint: parent=1\n",
       "  Joint 3 arm_2_joint: parent=2\n",
       "  Joint 4 arm_3_joint: parent=3\n",
       "  Joint 5 arm_4_joint: parent=4\n",
       "  Joint 6 arm_5_joint: parent=5\n",
       "  Joint 7 arm_6_joint: parent=6\n",
       "  Joint 8 arm_7_joint: parent=7\n",
       "  Joint 9 head_1_joint: parent=1\n",
       "  Joint 10 head_2_joint: parent=9\n",
       "  Joint 11 wheel_left_joint: parent=0\n",
       "  Joint 12 wheel_right_joint: parent=0"
      ]
     },
     "execution_count": 5,
     "metadata": {},
     "output_type": "execute_result"
    }
   ],
   "source": [
    "robot_model"
   ]
  },
  {
   "cell_type": "code",
   "execution_count": null,
   "id": "level-allowance",
   "metadata": {},
   "outputs": [],
   "source": []
  },
  {
   "cell_type": "code",
   "execution_count": 6,
   "id": "divided-simpson",
   "metadata": {},
   "outputs": [],
   "source": [
    "# Create the cost functions\n",
    "Mref = crocoddyl.FrameTranslation(robot_model.getFrameId(\"wrist_tool_joint\"), target)\n",
    "state = crocoddyl.StateMultibody(robot.model)\n",
    "goalTrackingCost = crocoddyl.CostModelFrameTranslation(state, Mref)\n",
    "xRegCost = crocoddyl.CostModelState(state)\n",
    "uRegCost = crocoddyl.CostModelControl(state)"
   ]
  },
  {
   "cell_type": "code",
   "execution_count": 7,
   "id": "overhead-modem",
   "metadata": {},
   "outputs": [],
   "source": [
    "# Create cost model per each action model\n",
    "runningCostModel = crocoddyl.CostModelSum(state)\n",
    "terminalCostModel = crocoddyl.CostModelSum(state)\n",
    "\n",
    "# Then let's added the running and terminal cost functions\n",
    "runningCostModel.addCost(\"gripperPose\", goalTrackingCost, 1e2)\n",
    "runningCostModel.addCost(\"stateReg\", xRegCost, 1e-4)\n",
    "runningCostModel.addCost(\"ctrlReg\", uRegCost, 1e-7)\n",
    "terminalCostModel.addCost(\"gripperPose\", goalTrackingCost, 1e5)\n",
    "terminalCostModel.addCost(\"stateReg\", xRegCost, 1e-4)\n",
    "terminalCostModel.addCost(\"ctrlReg\", uRegCost, 1e-7)"
   ]
  },
  {
   "cell_type": "code",
   "execution_count": 8,
   "id": "indoor-increase",
   "metadata": {},
   "outputs": [
    {
     "name": "stdout",
     "output_type": "stream",
     "text": [
      "Finally reached =  [0.66177751 0.02910813 1.07980466]\n"
     ]
    }
   ],
   "source": [
    "# Create the actuation model\n",
    "actuationModel = crocoddyl.ActuationModelFull(state)\n",
    "\n",
    "# Create the action model\n",
    "runningModel = crocoddyl.IntegratedActionModelEuler(\n",
    "    crocoddyl.DifferentialActionModelFreeFwdDynamics(state, actuationModel, runningCostModel), DT)\n",
    "terminalModel = crocoddyl.IntegratedActionModelEuler(\n",
    "    crocoddyl.DifferentialActionModelFreeFwdDynamics(state, actuationModel, terminalCostModel))\n",
    "\n",
    "\n",
    "# Create the problem\n",
    "q0 = robot_model.referenceConfigurations[\"tuck_arm\"]\n",
    "x0 = np.concatenate([q0, pinocchio.utils.zero(state.nv)])\n",
    "problem = crocoddyl.ShootingProblem(x0, [runningModel] * T, terminalModel)\n",
    "\n",
    "# Creating the DDP solver for this OC problem, defining a logger\n",
    "ddp = crocoddyl.SolverDDP(problem)\n",
    "ddp.setCallbacks([crocoddyl.CallbackVerbose()])\n",
    "\n",
    "# Solving it with the DDP algorithm\n",
    "ddp.solve()\n",
    "\n",
    "# Visualizing the solution in gepetto-viewer\n",
    "display.displayFromSolver(ddp)\n",
    "\n",
    "robot_data = robot_model.createData()\n",
    "xT = ddp.xs[-1]\n",
    "pinocchio.forwardKinematics(robot_model, robot_data, xT[:state.nq])\n",
    "pinocchio.updateFramePlacements(robot_model, robot_data)\n",
    "print('Finally reached = ', robot_data.oMf[robot_model.getFrameId(\"wrist_tool_joint\")].translation.T)"
   ]
  },
  {
   "cell_type": "code",
   "execution_count": 9,
   "id": "inappropriate-packet",
   "metadata": {},
   "outputs": [
    {
     "data": {
      "text/plain": [
       "26"
      ]
     },
     "execution_count": 9,
     "metadata": {},
     "output_type": "execute_result"
    }
   ],
   "source": [
    "x0.shape[0]"
   ]
  },
  {
   "cell_type": "code",
   "execution_count": 10,
   "id": "asian-recall",
   "metadata": {},
   "outputs": [
    {
     "data": {
      "text/html": [
       "\n",
       "            <div style=\"height: 400px; width: 100%; overflow-x: auto; overflow-y: hidden; resize: both\">\n",
       "            <iframe src=\"http://127.0.0.1:7000/static/\" style=\"width: 100%; height: 100%; border: none\"></iframe>\n",
       "            </div>\n",
       "            "
      ],
      "text/plain": [
       "<IPython.core.display.HTML object>"
      ]
     },
     "execution_count": 10,
     "metadata": {},
     "output_type": "execute_result"
    }
   ],
   "source": [
    "display.robot.viewer.jupyter_cell()"
   ]
  },
  {
   "cell_type": "code",
   "execution_count": 11,
   "id": "another-professor",
   "metadata": {},
   "outputs": [
    {
     "data": {
      "text/plain": [
       "array([ 3.75144596e-01,  4.92351353e+00, -3.13248116e+00, -1.54430243e+00,\n",
       "       -6.03186699e+00, -4.35277582e+00,  8.65263887e-02,  6.00921724e-01,\n",
       "       -8.06773646e-05, -1.27653996e-01,  7.23836854e-01,  6.89971165e-01,\n",
       "        7.23836854e-01,  6.89971165e-01, -1.57373116e+00,  4.95910630e+00,\n",
       "        1.16979357e+00,  2.94255493e+00,  1.10849424e+01,  9.63660213e+00,\n",
       "       -4.90817197e+00, -1.09821858e+01, -2.82059132e-04,  2.45620085e+00,\n",
       "       -1.02583673e-03, -1.02583673e-03])"
      ]
     },
     "execution_count": 11,
     "metadata": {},
     "output_type": "execute_result"
    }
   ],
   "source": [
    "xT"
   ]
  },
  {
   "cell_type": "code",
   "execution_count": null,
   "id": "lesbian-flooring",
   "metadata": {},
   "outputs": [],
   "source": []
  },
  {
   "cell_type": "code",
   "execution_count": null,
   "id": "friendly-compilation",
   "metadata": {},
   "outputs": [],
   "source": []
  },
  {
   "cell_type": "code",
   "execution_count": null,
   "id": "lesser-march",
   "metadata": {},
   "outputs": [],
   "source": []
  },
  {
   "cell_type": "code",
   "execution_count": null,
   "id": "binding-interstate",
   "metadata": {},
   "outputs": [],
   "source": []
  },
  {
   "cell_type": "code",
   "execution_count": null,
   "id": "cloudy-stroke",
   "metadata": {},
   "outputs": [],
   "source": []
  }
 ],
 "metadata": {
  "kernelspec": {
   "display_name": "Python 3",
   "language": "python",
   "name": "python3"
  },
  "language_info": {
   "codemirror_mode": {
    "name": "ipython",
    "version": 3
   },
   "file_extension": ".py",
   "mimetype": "text/x-python",
   "name": "python",
   "nbconvert_exporter": "python",
   "pygments_lexer": "ipython3",
   "version": "3.6.9"
  }
 },
 "nbformat": 4,
 "nbformat_minor": 5
}
