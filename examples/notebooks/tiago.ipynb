{
 "cells": [
  {
   "cell_type": "code",
   "execution_count": 1,
   "id": "flexible-fruit",
   "metadata": {},
   "outputs": [
    {
     "name": "stdout",
     "output_type": "stream",
     "text": [
      "You can open the visualizer by visiting the following URL:\n",
      "http://127.0.0.1:7002/static/\n"
     ]
    }
   ],
   "source": [
    "import crocoddyl\n",
    "import pinocchio\n",
    "import numpy as np\n",
    "import example_robot_data\n",
    "\n",
    "robot = example_robot_data.load('tiago')\n",
    "# robot = example_robot_data.loadTiago(True,'wsg')\n",
    "robot_model = robot.model\n",
    "q0 = robot_model.referenceConfigurations[\"tuck_arm\"]\n",
    "x0 = np.concatenate([q0, np.zeros(robot_model.nv)])\n",
    "# robot.q0 = q0\n",
    "DT = 1e-3\n",
    "T= 250\n",
    "target = np.array([0.8, 0.1, .9]) \n",
    "display = crocoddyl.MeshcatDisplay(robot, 4, 4, False)\n"
   ]
  },
  {
   "cell_type": "code",
   "execution_count": 2,
   "id": "comfortable-outline",
   "metadata": {},
   "outputs": [
    {
     "name": "stdout",
     "output_type": "stream",
     "text": [
      "referenceConfigurations: [ 0.15  0.2  -1.34 -0.2   1.94 -1.57  1.37  0.    0.    0.    0.    0.\n",
      "  0.    0.    0.    0.    0.    0.    0.    0.    0.    0.    0.    0.\n",
      "  0.    0.    0.    0.    0.    0.    0.    0.    0.    0.    0.    0.\n",
      "  0.    0.    0.    0.    0.    0.    0.    0.    0.    0.    1.    0.\n",
      "  1.    0.  ]\n"
     ]
    }
   ],
   "source": [
    "print(\"referenceConfigurations:\", q0)"
   ]
  },
  {
   "cell_type": "code",
   "execution_count": 3,
   "id": "auburn-debut",
   "metadata": {},
   "outputs": [
    {
     "name": "stdout",
     "output_type": "stream",
     "text": [
      "robot.q0 size: 50\n",
      "[0. 0. 0. 0. 0. 0. 0. 0. 0. 0. 0. 0. 0. 0. 0. 0. 0. 0. 0. 0. 0. 0. 0. 0.\n",
      " 0. 0. 0. 0. 0. 0. 0. 0. 0. 0. 0. 0. 0. 0. 0. 0. 0. 0. 0. 0. 0. 0. 1. 0.\n",
      " 1. 0.]\n"
     ]
    }
   ],
   "source": [
    "print(\"robot.q0 size:\", robot.q0.shape[0])\n",
    "print(robot.q0)"
   ]
  },
  {
   "cell_type": "code",
   "execution_count": 4,
   "id": "instant-branch",
   "metadata": {},
   "outputs": [
    {
     "data": {
      "text/plain": [
       "Nb joints = 49 (nq=50,nv=48)\n",
       "  Joint 0 universe: parent=0\n",
       "  Joint 1 torso_lift_joint: parent=0\n",
       "  Joint 2 arm_1_joint: parent=1\n",
       "  Joint 3 arm_2_joint: parent=2\n",
       "  Joint 4 arm_3_joint: parent=3\n",
       "  Joint 5 arm_4_joint: parent=4\n",
       "  Joint 6 arm_5_joint: parent=5\n",
       "  Joint 7 arm_6_joint: parent=6\n",
       "  Joint 8 arm_7_joint: parent=7\n",
       "  Joint 9 hand_index_abd_joint: parent=8\n",
       "  Joint 10 hand_index_virtual_1_joint: parent=9\n",
       "  Joint 11 hand_index_flex_1_joint: parent=10\n",
       "  Joint 12 hand_index_virtual_2_joint: parent=11\n",
       "  Joint 13 hand_index_flex_2_joint: parent=12\n",
       "  Joint 14 hand_index_virtual_3_joint: parent=13\n",
       "  Joint 15 hand_index_flex_3_joint: parent=14\n",
       "  Joint 16 hand_index_joint: parent=8\n",
       "  Joint 17 hand_little_abd_joint: parent=8\n",
       "  Joint 18 hand_little_virtual_1_joint: parent=17\n",
       "  Joint 19 hand_little_flex_1_joint: parent=18\n",
       "  Joint 20 hand_little_virtual_2_joint: parent=19\n",
       "  Joint 21 hand_little_flex_2_joint: parent=20\n",
       "  Joint 22 hand_little_virtual_3_joint: parent=21\n",
       "  Joint 23 hand_little_flex_3_joint: parent=22\n",
       "  Joint 24 hand_middle_abd_joint: parent=8\n",
       "  Joint 25 hand_middle_virtual_1_joint: parent=24\n",
       "  Joint 26 hand_middle_flex_1_joint: parent=25\n",
       "  Joint 27 hand_middle_virtual_2_joint: parent=26\n",
       "  Joint 28 hand_middle_flex_2_joint: parent=27\n",
       "  Joint 29 hand_middle_virtual_3_joint: parent=28\n",
       "  Joint 30 hand_middle_flex_3_joint: parent=29\n",
       "  Joint 31 hand_mrl_joint: parent=8\n",
       "  Joint 32 hand_ring_abd_joint: parent=8\n",
       "  Joint 33 hand_ring_virtual_1_joint: parent=32\n",
       "  Joint 34 hand_ring_flex_1_joint: parent=33\n",
       "  Joint 35 hand_ring_virtual_2_joint: parent=34\n",
       "  Joint 36 hand_ring_flex_2_joint: parent=35\n",
       "  Joint 37 hand_ring_virtual_3_joint: parent=36\n",
       "  Joint 38 hand_ring_flex_3_joint: parent=37\n",
       "  Joint 39 hand_thumb_abd_joint: parent=8\n",
       "  Joint 40 hand_thumb_virtual_1_joint: parent=39\n",
       "  Joint 41 hand_thumb_flex_1_joint: parent=40\n",
       "  Joint 42 hand_thumb_virtual_2_joint: parent=41\n",
       "  Joint 43 hand_thumb_flex_2_joint: parent=42\n",
       "  Joint 44 hand_thumb_joint: parent=8\n",
       "  Joint 45 head_1_joint: parent=1\n",
       "  Joint 46 head_2_joint: parent=45\n",
       "  Joint 47 wheel_left_joint: parent=0\n",
       "  Joint 48 wheel_right_joint: parent=0"
      ]
     },
     "execution_count": 4,
     "metadata": {},
     "output_type": "execute_result"
    }
   ],
   "source": [
    "robot_model"
   ]
  },
  {
   "cell_type": "code",
   "execution_count": 5,
   "id": "designed-jordan",
   "metadata": {},
   "outputs": [
    {
     "data": {
      "text/plain": [
       "98"
      ]
     },
     "execution_count": 5,
     "metadata": {},
     "output_type": "execute_result"
    }
   ],
   "source": [
    "x0.shape[0]"
   ]
  },
  {
   "cell_type": "code",
   "execution_count": 6,
   "id": "adequate-jersey",
   "metadata": {},
   "outputs": [],
   "source": [
    "# Create the cost functions\n",
    "Mref = crocoddyl.FrameTranslation(robot_model.getFrameId(\"wrist_tool_joint\"), target)\n",
    "state = crocoddyl.StateMultibody(robot.model)\n",
    "goalTrackingCost = crocoddyl.CostModelFrameTranslation(state, Mref)\n",
    "xRegCost = crocoddyl.CostModelState(state)\n",
    "uRegCost = crocoddyl.CostModelControl(state)"
   ]
  },
  {
   "cell_type": "code",
   "execution_count": 7,
   "id": "billion-interest",
   "metadata": {},
   "outputs": [],
   "source": [
    "# Create cost model per each action model\n",
    "runningCostModel = crocoddyl.CostModelSum(state)\n",
    "terminalCostModel = crocoddyl.CostModelSum(state)\n",
    "\n",
    "# Then let's added the running and terminal cost functions\n",
    "runningCostModel.addCost(\"gripperPose\", goalTrackingCost, 1e2)\n",
    "runningCostModel.addCost(\"stateReg\", xRegCost, 1e-4)\n",
    "runningCostModel.addCost(\"ctrlReg\", uRegCost, 1e-7)\n",
    "terminalCostModel.addCost(\"gripperPose\", goalTrackingCost, 1e5)\n",
    "terminalCostModel.addCost(\"stateReg\", xRegCost, 1e-4)\n",
    "terminalCostModel.addCost(\"ctrlReg\", uRegCost, 1e-7)"
   ]
  },
  {
   "cell_type": "code",
   "execution_count": 8,
   "id": "instructional-family",
   "metadata": {},
   "outputs": [
    {
     "name": "stdout",
     "output_type": "stream",
     "text": [
      "Finally reached =  [0.79994008 0.10013442 3.90001182]\n"
     ]
    }
   ],
   "source": [
    "# Create the actuation model\n",
    "actuationModel = crocoddyl.ActuationModelFull(state)\n",
    "\n",
    "# Create the action model\n",
    "runningModel = crocoddyl.IntegratedActionModelEuler(\n",
    "    crocoddyl.DifferentialActionModelFreeFwdDynamics(state, actuationModel, runningCostModel), DT)\n",
    "terminalModel = crocoddyl.IntegratedActionModelEuler(\n",
    "    crocoddyl.DifferentialActionModelFreeFwdDynamics(state, actuationModel, terminalCostModel))\n",
    "#runningModel.differential.armature = 0.2 * np.ones(state.nv)\n",
    "#terminalModel.differential.armature = 0.2 * np.ones(state.nv)\n",
    "\n",
    "# Create the problem\n",
    "q0 = robot_model.referenceConfigurations[\"tuck_arm\"]\n",
    "x0 = np.concatenate([q0, pinocchio.utils.zero(state.nv)])\n",
    "problem = crocoddyl.ShootingProblem(x0, [runningModel] * T, terminalModel)\n",
    "\n",
    "# Creating the DDP solver for this OC problem, defining a logger\n",
    "ddp = crocoddyl.SolverDDP(problem)\n",
    "ddp.setCallbacks([crocoddyl.CallbackVerbose()])\n",
    "\n",
    "# Solving it with the DDP algorithm\n",
    "ddp.solve()\n",
    "\n",
    "# Visualizing the solution in gepetto-viewer\n",
    "display.displayFromSolver(ddp)\n",
    "\n",
    "robot_data = robot_model.createData()\n",
    "xT = ddp.xs[-1]\n",
    "pinocchio.forwardKinematics(robot_model, robot_data, xT[:state.nq])\n",
    "pinocchio.updateFramePlacements(robot_model, robot_data)\n",
    "print('Finally reached = ', robot_data.oMf[robot_model.getFrameId(\"wrist_tool_joint\")].translation.T)"
   ]
  },
  {
   "cell_type": "code",
   "execution_count": null,
   "id": "colonial-daisy",
   "metadata": {},
   "outputs": [],
   "source": []
  },
  {
   "cell_type": "code",
   "execution_count": 9,
   "id": "lovely-smith",
   "metadata": {},
   "outputs": [
    {
     "data": {
      "text/html": [
       "\n",
       "            <div style=\"height: 400px; width: 100%; overflow-x: auto; overflow-y: hidden; resize: both\">\n",
       "            <iframe src=\"http://127.0.0.1:7002/static/\" style=\"width: 100%; height: 100%; border: none\"></iframe>\n",
       "            </div>\n",
       "            "
      ],
      "text/plain": [
       "<IPython.core.display.HTML object>"
      ]
     },
     "execution_count": 9,
     "metadata": {},
     "output_type": "execute_result"
    }
   ],
   "source": [
    "display.robot.viewer.jupyter_cell()"
   ]
  },
  {
   "cell_type": "code",
   "execution_count": null,
   "id": "million-memory",
   "metadata": {},
   "outputs": [],
   "source": []
  },
  {
   "cell_type": "code",
   "execution_count": null,
   "id": "incident-termination",
   "metadata": {},
   "outputs": [],
   "source": []
  },
  {
   "cell_type": "code",
   "execution_count": null,
   "id": "catholic-belarus",
   "metadata": {},
   "outputs": [],
   "source": []
  },
  {
   "cell_type": "code",
   "execution_count": null,
   "id": "yellow-thunder",
   "metadata": {},
   "outputs": [],
   "source": []
  }
 ],
 "metadata": {
  "kernelspec": {
   "display_name": "Python 3",
   "language": "python",
   "name": "python3"
  },
  "language_info": {
   "codemirror_mode": {
    "name": "ipython",
    "version": 3
   },
   "file_extension": ".py",
   "mimetype": "text/x-python",
   "name": "python",
   "nbconvert_exporter": "python",
   "pygments_lexer": "ipython3",
   "version": "3.6.9"
  }
 },
 "nbformat": 4,
 "nbformat_minor": 5
}
