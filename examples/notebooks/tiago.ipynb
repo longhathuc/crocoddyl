{
 "cells": [
  {
   "cell_type": "code",
   "execution_count": 12,
   "id": "interesting-distributor",
   "metadata": {},
   "outputs": [
    {
     "name": "stdout",
     "output_type": "stream",
     "text": [
      "['', '/opt/openrobots/lib/python3.6/site-packages', '/opt/openrobots/lib/python3.6/dist-packages', '/home/tlha/catkin_crocoddyl_ws/install/lib/python3/dist-packages', '/home/tlha/tiago_public_ws/install/lib/python2.7/dist-packages', '/opt/ros/melodic/lib/python2.7/dist-packages', '/usr/lib/python36.zip', '/usr/lib/python3.6', '/usr/lib/python3.6/lib-dynload', '/home/tlha/.local/lib/python3.6/site-packages', '/usr/local/lib/python3.6/dist-packages', '/usr/lib/python3/dist-packages', '/home/tlha/.local/lib/python3.6/site-packages/IPython/extensions', '/home/tlha/.ipython']\n"
     ]
    }
   ],
   "source": [
    "import sys\n",
    "print(sys.path)"
   ]
  },
  {
   "cell_type": "code",
   "execution_count": 13,
   "id": "operating-terrorism",
   "metadata": {},
   "outputs": [
    {
     "name": "stdout",
     "output_type": "stream",
     "text": [
      "You can open the visualizer by visiting the following URL:\n",
      "http://127.0.0.1:7001/static/\n"
     ]
    }
   ],
   "source": [
    "import crocoddyl\n",
    "import pinocchio\n",
    "import numpy as np\n",
    "import example_robot_data\n",
    "\n",
    "robot = example_robot_data.load('tiago')\n",
    "#robot = example_robot_data.loadTiago(True,'wsg')\n",
    "robot_model = robot.model\n",
    "q0 = robot_model.referenceConfigurations[\"tuck_arm\"]\n",
    "# x0 = np.concatenate([q0, np.zeros(robot_model.nv)])\n",
    "# robot.q0 = q0\n",
    "DT = 1e-3\n",
    "T= 250\n",
    "target = np.array([0.8, 0.1, 1.1]) \n",
    "display = crocoddyl.MeshcatDisplay(robot, 4, 4, False)\n"
   ]
  },
  {
   "cell_type": "code",
   "execution_count": null,
   "id": "active-wings",
   "metadata": {},
   "outputs": [],
   "source": []
  },
  {
   "cell_type": "code",
   "execution_count": 3,
   "id": "oriental-bacon",
   "metadata": {},
   "outputs": [
    {
     "name": "stdout",
     "output_type": "stream",
     "text": [
      "referenceConfigurations: [ 0.15  0.2  -1.34 -0.2   1.94 -1.57  1.37  0.    0.    0.    0.    0.\n",
      "  0.    0.    0.    0.    0.    0.    0.    0.    0.    0.    0.    0.\n",
      "  0.    0.    0.    0.    0.    0.    0.    0.    0.    0.    0.    0.\n",
      "  0.    0.    0.    0.    0.    0.    0.    0.    0.    0.    1.    0.\n",
      "  1.    0.  ]\n"
     ]
    }
   ],
   "source": [
    "print(\"referenceConfigurations:\", q0)"
   ]
  },
  {
   "cell_type": "code",
   "execution_count": 4,
   "id": "developing-consent",
   "metadata": {},
   "outputs": [
    {
     "name": "stdout",
     "output_type": "stream",
     "text": [
      "robot.q0 size: 50\n",
      "[0. 0. 0. 0. 0. 0. 0. 0. 0. 0. 0. 0. 0. 0. 0. 0. 0. 0. 0. 0. 0. 0. 0. 0.\n",
      " 0. 0. 0. 0. 0. 0. 0. 0. 0. 0. 0. 0. 0. 0. 0. 0. 0. 0. 0. 0. 0. 0. 1. 0.\n",
      " 1. 0.]\n"
     ]
    }
   ],
   "source": [
    "print(\"robot.q0 size:\", robot.q0.shape[0])\n",
    "print(robot.q0)"
   ]
  },
  {
   "cell_type": "code",
   "execution_count": 5,
   "id": "victorian-hanging",
   "metadata": {},
   "outputs": [
    {
     "data": {
      "text/plain": [
       "Nb joints = 49 (nq=50,nv=48)\n",
       "  Joint 0 universe: parent=0\n",
       "  Joint 1 torso_lift_joint: parent=0\n",
       "  Joint 2 arm_1_joint: parent=1\n",
       "  Joint 3 arm_2_joint: parent=2\n",
       "  Joint 4 arm_3_joint: parent=3\n",
       "  Joint 5 arm_4_joint: parent=4\n",
       "  Joint 6 arm_5_joint: parent=5\n",
       "  Joint 7 arm_6_joint: parent=6\n",
       "  Joint 8 arm_7_joint: parent=7\n",
       "  Joint 9 hand_index_abd_joint: parent=8\n",
       "  Joint 10 hand_index_virtual_1_joint: parent=9\n",
       "  Joint 11 hand_index_flex_1_joint: parent=10\n",
       "  Joint 12 hand_index_virtual_2_joint: parent=11\n",
       "  Joint 13 hand_index_flex_2_joint: parent=12\n",
       "  Joint 14 hand_index_virtual_3_joint: parent=13\n",
       "  Joint 15 hand_index_flex_3_joint: parent=14\n",
       "  Joint 16 hand_index_joint: parent=8\n",
       "  Joint 17 hand_little_abd_joint: parent=8\n",
       "  Joint 18 hand_little_virtual_1_joint: parent=17\n",
       "  Joint 19 hand_little_flex_1_joint: parent=18\n",
       "  Joint 20 hand_little_virtual_2_joint: parent=19\n",
       "  Joint 21 hand_little_flex_2_joint: parent=20\n",
       "  Joint 22 hand_little_virtual_3_joint: parent=21\n",
       "  Joint 23 hand_little_flex_3_joint: parent=22\n",
       "  Joint 24 hand_middle_abd_joint: parent=8\n",
       "  Joint 25 hand_middle_virtual_1_joint: parent=24\n",
       "  Joint 26 hand_middle_flex_1_joint: parent=25\n",
       "  Joint 27 hand_middle_virtual_2_joint: parent=26\n",
       "  Joint 28 hand_middle_flex_2_joint: parent=27\n",
       "  Joint 29 hand_middle_virtual_3_joint: parent=28\n",
       "  Joint 30 hand_middle_flex_3_joint: parent=29\n",
       "  Joint 31 hand_mrl_joint: parent=8\n",
       "  Joint 32 hand_ring_abd_joint: parent=8\n",
       "  Joint 33 hand_ring_virtual_1_joint: parent=32\n",
       "  Joint 34 hand_ring_flex_1_joint: parent=33\n",
       "  Joint 35 hand_ring_virtual_2_joint: parent=34\n",
       "  Joint 36 hand_ring_flex_2_joint: parent=35\n",
       "  Joint 37 hand_ring_virtual_3_joint: parent=36\n",
       "  Joint 38 hand_ring_flex_3_joint: parent=37\n",
       "  Joint 39 hand_thumb_abd_joint: parent=8\n",
       "  Joint 40 hand_thumb_virtual_1_joint: parent=39\n",
       "  Joint 41 hand_thumb_flex_1_joint: parent=40\n",
       "  Joint 42 hand_thumb_virtual_2_joint: parent=41\n",
       "  Joint 43 hand_thumb_flex_2_joint: parent=42\n",
       "  Joint 44 hand_thumb_joint: parent=8\n",
       "  Joint 45 head_1_joint: parent=1\n",
       "  Joint 46 head_2_joint: parent=45\n",
       "  Joint 47 wheel_left_joint: parent=0\n",
       "  Joint 48 wheel_right_joint: parent=0"
      ]
     },
     "execution_count": 5,
     "metadata": {},
     "output_type": "execute_result"
    }
   ],
   "source": [
    "robot_model"
   ]
  },
  {
   "cell_type": "code",
   "execution_count": null,
   "id": "level-allowance",
   "metadata": {},
   "outputs": [],
   "source": []
  },
  {
   "cell_type": "code",
   "execution_count": 6,
   "id": "divided-simpson",
   "metadata": {},
   "outputs": [],
   "source": [
    "# Create the cost functions\n",
    "Mref = crocoddyl.FrameTranslation(robot_model.getFrameId(\"wrist_tool_joint\"), target)\n",
    "state = crocoddyl.StateMultibody(robot.model)\n",
    "goalTrackingCost = crocoddyl.CostModelFrameTranslation(state, Mref)\n",
    "xRegCost = crocoddyl.CostModelState(state)\n",
    "uRegCost = crocoddyl.CostModelControl(state)"
   ]
  },
  {
   "cell_type": "code",
   "execution_count": 7,
   "id": "overhead-modem",
   "metadata": {},
   "outputs": [],
   "source": [
    "# Create cost model per each action model\n",
    "runningCostModel = crocoddyl.CostModelSum(state)\n",
    "terminalCostModel = crocoddyl.CostModelSum(state)\n",
    "\n",
    "# Then let's added the running and terminal cost functions\n",
    "runningCostModel.addCost(\"gripperPose\", goalTrackingCost, 1e2)\n",
    "runningCostModel.addCost(\"stateReg\", xRegCost, 1e-4)\n",
    "runningCostModel.addCost(\"ctrlReg\", uRegCost, 1e-7)\n",
    "terminalCostModel.addCost(\"gripperPose\", goalTrackingCost, 1e5)\n",
    "terminalCostModel.addCost(\"stateReg\", xRegCost, 1e-4)\n",
    "terminalCostModel.addCost(\"ctrlReg\", uRegCost, 1e-7)"
   ]
  },
  {
   "cell_type": "code",
   "execution_count": 8,
   "id": "indoor-increase",
   "metadata": {},
   "outputs": [
    {
     "name": "stdout",
     "output_type": "stream",
     "text": [
      "Finally reached =  [0.79880909 0.10023166 1.10034979]\n"
     ]
    }
   ],
   "source": [
    "# Create the actuation model\n",
    "actuationModel = crocoddyl.ActuationModelFull(state)\n",
    "\n",
    "# Create the action model\n",
    "runningModel = crocoddyl.IntegratedActionModelEuler(\n",
    "    crocoddyl.DifferentialActionModelFreeFwdDynamics(state, actuationModel, runningCostModel), DT)\n",
    "terminalModel = crocoddyl.IntegratedActionModelEuler(\n",
    "    crocoddyl.DifferentialActionModelFreeFwdDynamics(state, actuationModel, terminalCostModel))\n",
    "\n",
    "\n",
    "# Create the problem\n",
    "q0 = robot_model.referenceConfigurations[\"tuck_arm\"]\n",
    "x0 = np.concatenate([q0, pinocchio.utils.zero(state.nv)])\n",
    "problem = crocoddyl.ShootingProblem(x0, [runningModel] * T, terminalModel)\n",
    "\n",
    "# Creating the DDP solver for this OC problem, defining a logger\n",
    "ddp = crocoddyl.SolverDDP(problem)\n",
    "ddp.setCallbacks([crocoddyl.CallbackVerbose()])\n",
    "\n",
    "# Solving it with the DDP algorithm\n",
    "ddp.solve()\n",
    "\n",
    "# Visualizing the solution in gepetto-viewer\n",
    "display.displayFromSolver(ddp)\n",
    "\n",
    "robot_data = robot_model.createData()\n",
    "xT = ddp.xs[-1]\n",
    "pinocchio.forwardKinematics(robot_model, robot_data, xT[:state.nq])\n",
    "pinocchio.updateFramePlacements(robot_model, robot_data)\n",
    "print('Finally reached = ', robot_data.oMf[robot_model.getFrameId(\"wrist_tool_joint\")].translation.T)"
   ]
  },
  {
   "cell_type": "code",
   "execution_count": 9,
   "id": "inappropriate-packet",
   "metadata": {},
   "outputs": [
    {
     "data": {
      "text/plain": [
       "98"
      ]
     },
     "execution_count": 9,
     "metadata": {},
     "output_type": "execute_result"
    }
   ],
   "source": [
    "x0.shape[0]"
   ]
  },
  {
   "cell_type": "code",
   "execution_count": 10,
   "id": "asian-recall",
   "metadata": {},
   "outputs": [
    {
     "data": {
      "text/html": [
       "\n",
       "            <div style=\"height: 400px; width: 100%; overflow-x: auto; overflow-y: hidden; resize: both\">\n",
       "            <iframe src=\"http://127.0.0.1:7000/static/\" style=\"width: 100%; height: 100%; border: none\"></iframe>\n",
       "            </div>\n",
       "            "
      ],
      "text/plain": [
       "<IPython.core.display.HTML object>"
      ]
     },
     "execution_count": 10,
     "metadata": {},
     "output_type": "execute_result"
    }
   ],
   "source": [
    "display.robot.viewer.jupyter_cell()"
   ]
  },
  {
   "cell_type": "code",
   "execution_count": 11,
   "id": "another-professor",
   "metadata": {},
   "outputs": [
    {
     "data": {
      "text/plain": [
       "array([ 2.73885265e-01,  1.30330087e+00, -5.69163266e+00, -7.33996250e+00,\n",
       "       -1.14797266e+01, -3.26534341e-01, -8.36487443e-01, -3.87410791e+00,\n",
       "        1.90527875e+00, -4.05360865e-01, -3.35629828e-01, -2.59636020e-01,\n",
       "       -1.80488864e-01, -1.17040538e-01, -5.46057689e-02, -4.33838961e-02,\n",
       "        1.60692228e+00, -1.04150042e-01, -7.94487266e-02, -5.69458347e-02,\n",
       "       -3.72386176e-02, -2.27412232e-02, -9.36185634e-03,  1.64019316e+00,\n",
       "       -2.69488307e-01, -2.28262022e-01, -1.74405695e-01, -1.19335673e-01,\n",
       "       -7.72044843e-02, -3.46152963e-02, -4.33838961e-02,  1.61807953e+00,\n",
       "       -1.95687157e-01, -1.61183290e-01, -1.21815064e-01, -8.23717236e-02,\n",
       "       -5.27168294e-02, -2.30645624e-02,  9.80415117e-02, -1.14261347e-02,\n",
       "        7.01046341e-03,  5.49238271e-03,  2.98208240e-03, -4.33838961e-02,\n",
       "        6.61376919e-06, -6.31547953e-01,  1.00000000e+00,  0.00000000e+00,\n",
       "        1.00000000e+00,  0.00000000e+00,  1.44195541e+00,  5.29529851e+01,\n",
       "       -1.23255263e+02, -2.72195995e+01, -2.65624148e+02, -2.60272801e+01,\n",
       "        7.64322241e+01,  3.58662936e+00,  5.02229207e+00, -2.24815031e-01,\n",
       "        4.42256332e-01,  1.98817173e-01, -6.98352726e-02, -8.02274984e-02,\n",
       "       -9.32989288e-02,  3.12850188e-01,  4.74305037e+00, -1.71334965e+00,\n",
       "        1.42372515e-01, -5.54533166e-02, -2.88450594e-01, -1.93315797e-01,\n",
       "       -2.01311506e-01,  4.81043511e+00, -1.31355039e+00, -5.10557986e-02,\n",
       "       -2.26286718e-01, -4.83953982e-01, -3.21960959e-01, -2.83955644e-01,\n",
       "        3.12850188e-01,  4.85187641e+00, -1.58791455e+00,  8.64982395e-02,\n",
       "       -1.07832378e-01, -3.81025339e-01, -2.45370010e-01, -2.53854932e-01,\n",
       "       -3.60831821e+00,  1.83040655e+00,  1.46980057e+00,  9.25732676e-01,\n",
       "        4.15302386e-01,  3.12850188e-01,  5.51320256e-04, -1.94112859e+00,\n",
       "        0.00000000e+00,  0.00000000e+00])"
      ]
     },
     "execution_count": 11,
     "metadata": {},
     "output_type": "execute_result"
    }
   ],
   "source": [
    "xT"
   ]
  },
  {
   "cell_type": "code",
   "execution_count": null,
   "id": "lesbian-flooring",
   "metadata": {},
   "outputs": [],
   "source": []
  },
  {
   "cell_type": "code",
   "execution_count": null,
   "id": "friendly-compilation",
   "metadata": {},
   "outputs": [],
   "source": []
  },
  {
   "cell_type": "code",
   "execution_count": null,
   "id": "lesser-march",
   "metadata": {},
   "outputs": [],
   "source": []
  },
  {
   "cell_type": "code",
   "execution_count": null,
   "id": "binding-interstate",
   "metadata": {},
   "outputs": [],
   "source": []
  }
 ],
 "metadata": {
  "kernelspec": {
   "display_name": "Python 3",
   "language": "python",
   "name": "python3"
  },
  "language_info": {
   "codemirror_mode": {
    "name": "ipython",
    "version": 3
   },
   "file_extension": ".py",
   "mimetype": "text/x-python",
   "name": "python",
   "nbconvert_exporter": "python",
   "pygments_lexer": "ipython3",
   "version": "3.6.9"
  }
 },
 "nbformat": 4,
 "nbformat_minor": 5
}
